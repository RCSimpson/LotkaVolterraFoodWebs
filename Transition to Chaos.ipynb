{
 "cells": [
  {
   "cell_type": "markdown",
   "metadata": {},
   "source": [
    "## The Transition to Chaos in a Three-Species Lotka- Volterra Model\n",
    "### Robert Simpson\n",
    "### 5-16-2020"
   ]
  },
  {
   "cell_type": "markdown",
   "metadata": {},
   "source": [
    "We can easily extend the Lotka-Volterra model to include $N$ species.\n",
    "\n",
    "\n",
    "\\begin{align*}\n",
    "    \\dot{x}_{i}  = a_{i}x_{i}\\left( 1 - \\sum^{N}_{j=1} a_{i,j} x_{j} \\right) + a_{i,i}\n",
    "\\end{align*}\n",
    "\n",
    "\n",
    "In both of the models below we make a set of assumptions about the paraneters to reduce both our search for dynamics between certain parameter values and to ensure that the systems are reasonable within biological science. The assumptions are as follows: \n",
    "\n",
    "\n",
    "\n",
    " - Prey reproduction behaves according to a logistic growth term. Reproduction for the two predators is dependent upon low intraspecies competition and presence of prey. \n",
    " \n",
    " \n",
    " - Predators die off exponentially when too many of them accumulate. \n",
    " \n",
    " \n",
    " - In the model we assume predation occurs linearly and predation affects the prey and predator populations at differing magnitude.\n",
    "\n",
    "\n",
    "Thus we can construct a three species model as: \n",
    "\n",
    " \\begin{align*}\n",
    "    & \\dot{x} = x(a_{11} - a_{12}x - a_{13}y - a_{14}z)\\\\\n",
    "    & \\dot{y} = y(- a_{21} + a_{22}x - a_{24}z)\\\\ \n",
    "    & \\dot{z} = z(-a_{31} + a_{32}x + a_{33}y)\n",
    "\\end{align*}\n",
    "\n",
    "\n",
    "We can non-dimensonalize the system above. The non-dimensional variables are:\n",
    "\n",
    "\n",
    "\\begin{align*}\n",
    "    & x = \\frac{\\bar{x}a_{11}}{a_{12}}\\\\\n",
    "    & y = \\frac{\\bar{y}a_{11}}{a_{13}}\\\\ \n",
    "    & z = \\frac{\\bar{z}a_{11}}{a_{14}}\\\\ \n",
    "    & \\tau = a_{11} t\n",
    "\\end{align*}\n",
    "\n",
    "\n",
    "Dropping the bar and using our terms simply in $x$, $y$, $z$ for both brevity and aesthetic we have:\n",
    "\n",
    "\n",
    "\\begin{align*}\n",
    "    & \\dot{x} = x \\left( 1 - x - y - z\\right) \\\\\n",
    "    & \\dot{y} = y \\left( -b + cx  - dz \\right) \\\\\n",
    "    & \\dot{z} = z \\left( -e + fx + gy \\right)\n",
    "\\end{align*}\n",
    "\n",
    "\n",
    "\n",
    "Where our non-dimensional parameters are:\n",
    "\n",
    "\n",
    "\n",
    "\\begin{align*}\n",
    "    & b =  \\frac{a_{21}}{a_{11}}\\\\\n",
    "    & c =  \\frac{a_{22}}{a_{12}}\\\\\n",
    "    & d = \\frac{a_{24}}{a_{14}}\\\\\n",
    "    & e = \\frac{a_{31}}{a_{11}}\\\\\n",
    "    & f = \\frac{a_{11}}{a_{31}}\\\\ \n",
    "    & g = \\frac{a_{33}}{a_{13}}\\\\\n",
    "\\end{align*}"
   ]
  },
  {
   "cell_type": "markdown",
   "metadata": {},
   "source": [
    "We are now ready to begin exploring the model numerically."
   ]
  },
  {
   "cell_type": "code",
   "execution_count": null,
   "metadata": {},
   "outputs": [],
   "source": []
  }
 ],
 "metadata": {
  "kernelspec": {
   "display_name": "Python 3",
   "language": "python",
   "name": "python3"
  },
  "language_info": {
   "codemirror_mode": {
    "name": "ipython",
    "version": 3
   },
   "file_extension": ".py",
   "mimetype": "text/x-python",
   "name": "python",
   "nbconvert_exporter": "python",
   "pygments_lexer": "ipython3",
   "version": "3.8.3"
  }
 },
 "nbformat": 4,
 "nbformat_minor": 4
}
